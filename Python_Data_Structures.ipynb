{
  "nbformat": 4,
  "nbformat_minor": 0,
  "metadata": {
    "colab": {
      "provenance": [],
      "authorship_tag": "ABX9TyMXzJcteqepk5kH7GdX4Fl0",
      "include_colab_link": true
    },
    "kernelspec": {
      "name": "python3",
      "display_name": "Python 3"
    },
    "language_info": {
      "name": "python"
    }
  },
  "cells": [
    {
      "cell_type": "markdown",
      "metadata": {
        "id": "view-in-github",
        "colab_type": "text"
      },
      "source": [
        "<a href=\"https://colab.research.google.com/github/subhan-faisal/Python_Data_Structures/blob/main/Python_Data_Structures.ipynb\" target=\"_parent\"><img src=\"https://colab.research.google.com/assets/colab-badge.svg\" alt=\"Open In Colab\"/></a>"
      ]
    },
    {
      "cell_type": "code",
      "execution_count": 2,
      "metadata": {
        "colab": {
          "base_uri": "https://localhost:8080/"
        },
        "id": "Rrh6JSgyCk3x",
        "outputId": "30c52b23-41b6-46bc-fa07-ac0ef2c4d9b8"
      },
      "outputs": [
        {
          "output_type": "stream",
          "name": "stdout",
          "text": [
            "Enter a integer value gretaer the 0: 2\n",
            "   Even  Odd  Fibbinoci\n",
            "0     0    1          0\n",
            "1     2    3          1\n"
          ]
        }
      ],
      "source": [
        "import pandas as pd \n",
        "n=int(input(\"Enter a integer value gretaer the 0: \"))\n",
        "even=[]\n",
        "e1=0\n",
        "odd=[]\n",
        "o1=1\n",
        "fabb=[]\n",
        "f1=0\n",
        "f2=1\n",
        "if n>=1:\n",
        "    fabb.append(f1)\n",
        "if n>=2:\n",
        "    fabb.append(f2)\n",
        "\n",
        "if(n>1):\n",
        "    even.append(e1)\n",
        "    odd.append(o1)\n",
        "for i in range(n-1):\n",
        "    e1+=2\n",
        "    o1+=2\n",
        "    even.append(e1)\n",
        "    odd.append(o1)\n",
        "if(n>2):\n",
        "    for i in range(n-2):\n",
        "        t=f1+f2\n",
        "        f1=f2\n",
        "        f2=t\n",
        "        fabb.append(t)\n",
        "        \n",
        "dict={\"Even\":even,\"Odd\":odd,\"Fibbinoci\":fabb}\n",
        "\n",
        "df=pd.DataFrame(dict)\n",
        "\n",
        "print(df)"
      ]
    }
  ]
}